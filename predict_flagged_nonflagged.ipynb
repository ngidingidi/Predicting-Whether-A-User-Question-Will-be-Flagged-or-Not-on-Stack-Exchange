{
 "cells": [
  {
   "cell_type": "markdown",
   "metadata": {},
   "source": [
    "The goal of this project was to extract questions users posted on Stack Overflow's parent website, Stack Exchange and use machine learning to predict whether a posted user question would be flagged or not. This was part of a 4 week data science series organized by the Portland Data Science Meetup group in which data science enthusiasts got together and worked on this project. We exchanged ideas and each person was responsible for writing up their results. This is my report\n",
    "\n",
    "My team members were: Sicelo, Ryan, Sagi, Megan, Shalika, Ravi, Anand, and Jagadesh"
   ]
  },
  {
   "cell_type": "raw",
   "metadata": {},
   "source": [
    "The first step was to get the data first. We used SQL to obtain data from Stack Exchange's database, which is available to the public.\n",
    "\n",
    "https://data.stackexchange.com/stackoverflow/query/new\n",
    "\n",
    "Below is the final query we used to extract the data. We extracted 7000 flagged questions and 7000 unflagged questions in 2019. For flagged questions, we selected reason type for the flag being 'unclear what you're asking'\n",
    "\n",
    "select top 7000 a.body, '1' AS flag_id\n",
    "from posts a\n",
    "JOIN pendingflags b\n",
    "ON (a.id = b.postid)\n",
    "WHERE YEAR(a.CreationDate) = '2019' AND b.closereasontypeid = '103'\n",
    "UNION ALL\n",
    "select top 7000 a.body, '0' AS flag_id\n",
    "from posts a\n",
    "LEFT JOIN pendingflags b\n",
    "ON (a.id = b.postid)\n",
    "WHERE YEAR(a.CreationDate) = '2019' AND b.postid IS NULL\n",
    "\n",
    "\n",
    "We selected reason type for the flag to be 'unclear what you're asking.' The query below shows all the reasons for a question to be flagged\n",
    "\n",
    "select a.id, a.name, a.description\n",
    "from closereasontypes a\n",
    "\n"
   ]
  },
  {
   "cell_type": "code",
   "execution_count": 10,
   "metadata": {},
   "outputs": [],
   "source": [
    "# Import modules\n",
    "\n",
    "import pandas as pd\n",
    "import numpy as np\n",
    "import matplotlib.pyplot as plt\n",
    "import seaborn as sns\n",
    "%matplotlib inline"
   ]
  },
  {
   "cell_type": "code",
   "execution_count": 26,
   "metadata": {},
   "outputs": [
    {
     "data": {
      "text/html": [
       "<div>\n",
       "<style scoped>\n",
       "    .dataframe tbody tr th:only-of-type {\n",
       "        vertical-align: middle;\n",
       "    }\n",
       "\n",
       "    .dataframe tbody tr th {\n",
       "        vertical-align: top;\n",
       "    }\n",
       "\n",
       "    .dataframe thead th {\n",
       "        text-align: right;\n",
       "    }\n",
       "</style>\n",
       "<table border=\"1\" class=\"dataframe\">\n",
       "  <thead>\n",
       "    <tr style=\"text-align: right;\">\n",
       "      <th></th>\n",
       "      <th>body</th>\n",
       "      <th>flag_id</th>\n",
       "    </tr>\n",
       "  </thead>\n",
       "  <tbody>\n",
       "    <tr>\n",
       "      <th>0</th>\n",
       "      <td>&lt;p&gt;I want to read JT 3D file in c++. I am able...</td>\n",
       "      <td>1</td>\n",
       "    </tr>\n",
       "    <tr>\n",
       "      <th>1</th>\n",
       "      <td>&lt;p&gt;I had to solve a Capacitated Orienteering P...</td>\n",
       "      <td>1</td>\n",
       "    </tr>\n",
       "    <tr>\n",
       "      <th>2</th>\n",
       "      <td>&lt;p&gt;The SSLServerSocket below blocks in in.read...</td>\n",
       "      <td>1</td>\n",
       "    </tr>\n",
       "    <tr>\n",
       "      <th>3</th>\n",
       "      <td>&lt;p&gt;Graph seems to be returning invalid retry-a...</td>\n",
       "      <td>1</td>\n",
       "    </tr>\n",
       "    <tr>\n",
       "      <th>4</th>\n",
       "      <td>&lt;p&gt;componentDidMount(){\\n    fetch('&lt;a href=\"h...</td>\n",
       "      <td>1</td>\n",
       "    </tr>\n",
       "  </tbody>\n",
       "</table>\n",
       "</div>"
      ],
      "text/plain": [
       "                                                body  flag_id\n",
       "0  <p>I want to read JT 3D file in c++. I am able...        1\n",
       "1  <p>I had to solve a Capacitated Orienteering P...        1\n",
       "2  <p>The SSLServerSocket below blocks in in.read...        1\n",
       "3  <p>Graph seems to be returning invalid retry-a...        1\n",
       "4  <p>componentDidMount(){\\n    fetch('<a href=\"h...        1"
      ]
     },
     "execution_count": 26,
     "metadata": {},
     "output_type": "execute_result"
    }
   ],
   "source": [
    "df = pd.read_csv('C:/Users/sicel/Desktop/Portland Data Science/DataScience/14000flaggedunflagged.csv')\n",
    "df.head()"
   ]
  },
  {
   "cell_type": "code",
   "execution_count": 12,
   "metadata": {},
   "outputs": [
    {
     "name": "stdout",
     "output_type": "stream",
     "text": [
      "<class 'pandas.core.frame.DataFrame'>\n",
      "RangeIndex: 14000 entries, 0 to 13999\n",
      "Data columns (total 2 columns):\n",
      "body       13996 non-null object\n",
      "flag_id    14000 non-null int64\n",
      "dtypes: int64(1), object(1)\n",
      "memory usage: 218.8+ KB\n"
     ]
    }
   ],
   "source": [
    "df.info()"
   ]
  },
  {
   "cell_type": "code",
   "execution_count": 14,
   "metadata": {},
   "outputs": [
    {
     "data": {
      "text/plain": [
       "(14000, 2)"
      ]
     },
     "execution_count": 14,
     "metadata": {},
     "output_type": "execute_result"
    }
   ],
   "source": [
    "df.shape"
   ]
  },
  {
   "cell_type": "code",
   "execution_count": 15,
   "metadata": {},
   "outputs": [
    {
     "data": {
      "text/plain": [
       "1    7000\n",
       "0    7000\n",
       "Name: flag_id, dtype: int64"
      ]
     },
     "execution_count": 15,
     "metadata": {},
     "output_type": "execute_result"
    }
   ],
   "source": [
    "# 1 is flagged and 0 is not flagged\n",
    "df['flag_id'].value_counts()"
   ]
  },
  {
   "cell_type": "code",
   "execution_count": 16,
   "metadata": {},
   "outputs": [
    {
     "data": {
      "text/html": [
       "<div>\n",
       "<style scoped>\n",
       "    .dataframe tbody tr th:only-of-type {\n",
       "        vertical-align: middle;\n",
       "    }\n",
       "\n",
       "    .dataframe tbody tr th {\n",
       "        vertical-align: top;\n",
       "    }\n",
       "\n",
       "    .dataframe thead th {\n",
       "        text-align: right;\n",
       "    }\n",
       "</style>\n",
       "<table border=\"1\" class=\"dataframe\">\n",
       "  <thead>\n",
       "    <tr style=\"text-align: right;\">\n",
       "      <th></th>\n",
       "      <th>body</th>\n",
       "      <th>flag_id</th>\n",
       "    </tr>\n",
       "  </thead>\n",
       "  <tbody>\n",
       "    <tr>\n",
       "      <th>8645</th>\n",
       "      <td>NaN</td>\n",
       "      <td>0</td>\n",
       "    </tr>\n",
       "    <tr>\n",
       "      <th>8751</th>\n",
       "      <td>NaN</td>\n",
       "      <td>0</td>\n",
       "    </tr>\n",
       "    <tr>\n",
       "      <th>10628</th>\n",
       "      <td>NaN</td>\n",
       "      <td>0</td>\n",
       "    </tr>\n",
       "    <tr>\n",
       "      <th>11647</th>\n",
       "      <td>NaN</td>\n",
       "      <td>0</td>\n",
       "    </tr>\n",
       "  </tbody>\n",
       "</table>\n",
       "</div>"
      ],
      "text/plain": [
       "      body  flag_id\n",
       "8645   NaN        0\n",
       "8751   NaN        0\n",
       "10628  NaN        0\n",
       "11647  NaN        0"
      ]
     },
     "execution_count": 16,
     "metadata": {},
     "output_type": "execute_result"
    }
   ],
   "source": [
    "# Print out missing rows\n",
    "null_data = df[df.isnull().any(axis=1)]\n",
    "null_data.head(10)"
   ]
  },
  {
   "cell_type": "markdown",
   "metadata": {},
   "source": [
    "# DATA CLEANING"
   ]
  },
  {
   "cell_type": "code",
   "execution_count": 17,
   "metadata": {},
   "outputs": [],
   "source": [
    "from bs4 import BeautifulSoup"
   ]
  },
  {
   "cell_type": "code",
   "execution_count": 27,
   "metadata": {},
   "outputs": [
    {
     "data": {
      "text/html": [
       "<div>\n",
       "<style scoped>\n",
       "    .dataframe tbody tr th:only-of-type {\n",
       "        vertical-align: middle;\n",
       "    }\n",
       "\n",
       "    .dataframe tbody tr th {\n",
       "        vertical-align: top;\n",
       "    }\n",
       "\n",
       "    .dataframe thead th {\n",
       "        text-align: right;\n",
       "    }\n",
       "</style>\n",
       "<table border=\"1\" class=\"dataframe\">\n",
       "  <thead>\n",
       "    <tr style=\"text-align: right;\">\n",
       "      <th></th>\n",
       "      <th>body</th>\n",
       "      <th>flag_id</th>\n",
       "      <th>body_clean</th>\n",
       "    </tr>\n",
       "  </thead>\n",
       "  <tbody>\n",
       "    <tr>\n",
       "      <th>0</th>\n",
       "      <td>&lt;p&gt;I want to read JT 3D file in c++. I am able...</td>\n",
       "      <td>1</td>\n",
       "      <td>I want to read JT 3D file in c++. I am able to...</td>\n",
       "    </tr>\n",
       "    <tr>\n",
       "      <th>1</th>\n",
       "      <td>&lt;p&gt;I had to solve a Capacitated Orienteering P...</td>\n",
       "      <td>1</td>\n",
       "      <td>I had to solve a Capacitated Orienteering Prob...</td>\n",
       "    </tr>\n",
       "    <tr>\n",
       "      <th>2</th>\n",
       "      <td>&lt;p&gt;The SSLServerSocket below blocks in in.read...</td>\n",
       "      <td>1</td>\n",
       "      <td>The SSLServerSocket below blocks in in.read() ...</td>\n",
       "    </tr>\n",
       "    <tr>\n",
       "      <th>3</th>\n",
       "      <td>&lt;p&gt;Graph seems to be returning invalid retry-a...</td>\n",
       "      <td>1</td>\n",
       "      <td>Graph seems to be returning invalid retry-afte...</td>\n",
       "    </tr>\n",
       "    <tr>\n",
       "      <th>4</th>\n",
       "      <td>&lt;p&gt;componentDidMount(){\\n    fetch('&lt;a href=\"h...</td>\n",
       "      <td>1</td>\n",
       "      <td>componentDidMount(){\\n    fetch('https://bobob...</td>\n",
       "    </tr>\n",
       "  </tbody>\n",
       "</table>\n",
       "</div>"
      ],
      "text/plain": [
       "                                                body  flag_id  \\\n",
       "0  <p>I want to read JT 3D file in c++. I am able...        1   \n",
       "1  <p>I had to solve a Capacitated Orienteering P...        1   \n",
       "2  <p>The SSLServerSocket below blocks in in.read...        1   \n",
       "3  <p>Graph seems to be returning invalid retry-a...        1   \n",
       "4  <p>componentDidMount(){\\n    fetch('<a href=\"h...        1   \n",
       "\n",
       "                                          body_clean  \n",
       "0  I want to read JT 3D file in c++. I am able to...  \n",
       "1  I had to solve a Capacitated Orienteering Prob...  \n",
       "2  The SSLServerSocket below blocks in in.read() ...  \n",
       "3  Graph seems to be returning invalid retry-afte...  \n",
       "4  componentDidMount(){\\n    fetch('https://bobob...  "
      ]
     },
     "execution_count": 27,
     "metadata": {},
     "output_type": "execute_result"
    }
   ],
   "source": [
    "# Awesome, I was able to use BeautifulSoup to extract text between html tags\n",
    "df['body_clean'] = df.body.apply(lambda x: BeautifulSoup(str(x), \"lxml\").get_text())\n",
    "df.head()"
   ]
  },
  {
   "cell_type": "code",
   "execution_count": 28,
   "metadata": {},
   "outputs": [
    {
     "data": {
      "text/plain": [
       "'I am new to Purescript so I don\\'t know how to show multiple SVGs in one div.\\nI researched some code examples and implemented this codebase but it has issues.\\nWhat is wrong with this code?\\nrenderView :: State -> H.ComponentHTML Query\\nrenderView state = let\\n    {vertices, edges} = state.shape\\n    {currentId, shapes} = state.shapeCnt\\n    vert2Ds = map project vertices\\n  in\\n    HH.div_\\n      [\\n        HH.div [] $\\n          [ renderButton \"rotX++\" (IncAngVelocity X)\\n          , renderButton \"rotY++\" (IncAngVelocity Y)\\n          , renderButton \"rotZ++\" (IncAngVelocity Z)\\n          , renderButton \"Add Cube\" (AddCube)\\n          , renderButton \"Remove Cube\" (RemoveCube)\\n          ],\\n\\n        HH.div_ $ flip map shapes \\\\sid ->\\n          Tuple (show sid) $\\n            [ SE.svg\\n              [ SA.viewBox 0.0 0.0 viewBoxSize viewBoxSize ]\\n              [ SE.g []\\n                (drawCube edges vert2Ds)\\n              ]\\n            ]\\n      ]\\n\\n'"
      ]
     },
     "execution_count": 28,
     "metadata": {},
     "output_type": "execute_result"
    }
   ],
   "source": [
    "# Print a few rows to see how clean the text looks. A few rows shows a lot of these expressions, \\n\n",
    "df.loc[10,'body_clean']"
   ]
  },
  {
   "cell_type": "code",
   "execution_count": 29,
   "metadata": {},
   "outputs": [
    {
     "data": {
      "text/plain": [
       "'i am new to purescript so i don\\'t know how to show multiple svgs in one div. i researched some code examples and implemented this codebase but it has issues. what is wrong with this code? renderview :: state -> h.componenthtml query renderview state = let     {vertices, edges} = state.shape     {currentid, shapes} = state.shapecnt     vert2ds = map project vertices   in     hh.div_       [         hh.div [] $           [ renderbutton \"rotx++\" (incangvelocity x)           , renderbutton \"roty++\" (incangvelocity y)           , renderbutton \"rotz++\" (incangvelocity z)           , renderbutton \"add cube\" (addcube)           , renderbutton \"remove cube\" (removecube)           ],          hh.div_ $ flip map shapes \\\\sid ->           tuple (show sid) $             [ se.svg               [ sa.viewbox 0.0 0.0 viewboxsize viewboxsize ]               [ se.g []                 (drawcube edges vert2ds)               ]             ]       ]  '"
      ]
     },
     "execution_count": 29,
     "metadata": {},
     "output_type": "execute_result"
    }
   ],
   "source": [
    "# Also convert to lowercase\n",
    "df['body_clean'] = df['body_clean'].str.replace('\\n', ' ')\n",
    "df['body_clean'] = df['body_clean'].str.lower()\n",
    "df.loc[10, 'body_clean']"
   ]
  },
  {
   "cell_type": "code",
   "execution_count": 30,
   "metadata": {},
   "outputs": [
    {
     "data": {
      "text/plain": [
       "'i am new to purescript so i don\\'t know how to show multiple svgs in one div. i researched some code examples and implemented this codebase but it has issues. what is wrong with this code? renderview :: state -> h.componenthtml query renderview state = let   {vertices, edges} = state.shape   {currentid, shapes} = state.shapecnt   vert2ds = map project vertices  in   hh.div_    [     hh.div [] $      [ renderbutton \"rotx++\" (incangvelocity x)      , renderbutton \"roty++\" (incangvelocity y)      , renderbutton \"rotz++\" (incangvelocity z)      , renderbutton \"add cube\" (addcube)      , renderbutton \"remove cube\" (removecube)      ],     hh.div_ $ flip map shapes \\\\sid ->      tuple (show sid) $       [ se.svg        [ sa.viewbox 0.0 0.0 viewboxsize viewboxsize ]        [ se.g []         (drawcube edges vert2ds)        ]       ]    ] '"
      ]
     },
     "execution_count": 30,
     "metadata": {},
     "output_type": "execute_result"
    }
   ],
   "source": [
    "# Remove whitespaces.\n",
    "df['body_clean'] = df['body_clean'].str.replace(\"  \",\" \")\n",
    "df.loc[10, 'body_clean']"
   ]
  },
  {
   "cell_type": "code",
   "execution_count": 31,
   "metadata": {},
   "outputs": [
    {
     "data": {
      "text/html": [
       "<div>\n",
       "<style scoped>\n",
       "    .dataframe tbody tr th:only-of-type {\n",
       "        vertical-align: middle;\n",
       "    }\n",
       "\n",
       "    .dataframe tbody tr th {\n",
       "        vertical-align: top;\n",
       "    }\n",
       "\n",
       "    .dataframe thead th {\n",
       "        text-align: right;\n",
       "    }\n",
       "</style>\n",
       "<table border=\"1\" class=\"dataframe\">\n",
       "  <thead>\n",
       "    <tr style=\"text-align: right;\">\n",
       "      <th></th>\n",
       "      <th>body</th>\n",
       "      <th>flag_id</th>\n",
       "      <th>body_clean</th>\n",
       "    </tr>\n",
       "  </thead>\n",
       "  <tbody>\n",
       "    <tr>\n",
       "      <th>0</th>\n",
       "      <td>&lt;p&gt;I want to read JT 3D file in c++. I am able...</td>\n",
       "      <td>1</td>\n",
       "      <td>i want to read jt d file in c i am able to acc...</td>\n",
       "    </tr>\n",
       "    <tr>\n",
       "      <th>1</th>\n",
       "      <td>&lt;p&gt;I had to solve a Capacitated Orienteering P...</td>\n",
       "      <td>1</td>\n",
       "      <td>i had to solve a capacitated orienteering prob...</td>\n",
       "    </tr>\n",
       "    <tr>\n",
       "      <th>2</th>\n",
       "      <td>&lt;p&gt;The SSLServerSocket below blocks in in.read...</td>\n",
       "      <td>1</td>\n",
       "      <td>the sslserversocket below blocks in inread in ...</td>\n",
       "    </tr>\n",
       "    <tr>\n",
       "      <th>3</th>\n",
       "      <td>&lt;p&gt;Graph seems to be returning invalid retry-a...</td>\n",
       "      <td>1</td>\n",
       "      <td>graph seems to be returning invalid retryafter...</td>\n",
       "    </tr>\n",
       "    <tr>\n",
       "      <th>4</th>\n",
       "      <td>&lt;p&gt;componentDidMount(){\\n    fetch('&lt;a href=\"h...</td>\n",
       "      <td>1</td>\n",
       "      <td>componentdidmount   fetchhttpsboboboionlinecap...</td>\n",
       "    </tr>\n",
       "  </tbody>\n",
       "</table>\n",
       "</div>"
      ],
      "text/plain": [
       "                                                body  flag_id  \\\n",
       "0  <p>I want to read JT 3D file in c++. I am able...        1   \n",
       "1  <p>I had to solve a Capacitated Orienteering P...        1   \n",
       "2  <p>The SSLServerSocket below blocks in in.read...        1   \n",
       "3  <p>Graph seems to be returning invalid retry-a...        1   \n",
       "4  <p>componentDidMount(){\\n    fetch('<a href=\"h...        1   \n",
       "\n",
       "                                          body_clean  \n",
       "0  i want to read jt d file in c i am able to acc...  \n",
       "1  i had to solve a capacitated orienteering prob...  \n",
       "2  the sslserversocket below blocks in inread in ...  \n",
       "3  graph seems to be returning invalid retryafter...  \n",
       "4  componentdidmount   fetchhttpsboboboionlinecap...  "
      ]
     },
     "execution_count": 31,
     "metadata": {},
     "output_type": "execute_result"
    }
   ],
   "source": [
    "# Include only alpha characters. Everything except a-zA-Z gets replaced with empty string\n",
    "\n",
    "import re\n",
    "\n",
    "df.body_clean = df.body_clean.apply(lambda x: re.sub('[^a-zA-Z\\s]', '', x))\n",
    "df.head()"
   ]
  },
  {
   "cell_type": "code",
   "execution_count": 32,
   "metadata": {},
   "outputs": [
    {
     "data": {
      "text/plain": [
       "'i am new to purescript so i dont know how to show multiple svgs in one div i researched some code examples and implemented this codebase but it has issues what is wrong with this code renderview  state  hcomponenthtml query renderview state  let   vertices edges  stateshape   currentid shapes  stateshapecnt   vertds  map project vertices  in   hhdiv         hhdiv         renderbutton rotx incangvelocity x       renderbutton roty incangvelocity y       renderbutton rotz incangvelocity z       renderbutton add cube addcube       renderbutton remove cube removecube           hhdiv  flip map shapes sid       tuple show sid         sesvg         saviewbox   viewboxsize viewboxsize          seg          drawcube edges vertds                    '"
      ]
     },
     "execution_count": 32,
     "metadata": {},
     "output_type": "execute_result"
    }
   ],
   "source": [
    "# Looks better after cleaning\n",
    "df.loc[10, 'body_clean']"
   ]
  },
  {
   "cell_type": "code",
   "execution_count": 35,
   "metadata": {},
   "outputs": [
    {
     "data": {
      "text/html": [
       "<div>\n",
       "<style scoped>\n",
       "    .dataframe tbody tr th:only-of-type {\n",
       "        vertical-align: middle;\n",
       "    }\n",
       "\n",
       "    .dataframe tbody tr th {\n",
       "        vertical-align: top;\n",
       "    }\n",
       "\n",
       "    .dataframe thead th {\n",
       "        text-align: right;\n",
       "    }\n",
       "</style>\n",
       "<table border=\"1\" class=\"dataframe\">\n",
       "  <thead>\n",
       "    <tr style=\"text-align: right;\">\n",
       "      <th></th>\n",
       "      <th>body</th>\n",
       "      <th>flag_id</th>\n",
       "      <th>body_clean</th>\n",
       "      <th>length</th>\n",
       "    </tr>\n",
       "  </thead>\n",
       "  <tbody>\n",
       "    <tr>\n",
       "      <th>0</th>\n",
       "      <td>&lt;p&gt;I want to read JT 3D file in c++. I am able...</td>\n",
       "      <td>1</td>\n",
       "      <td>i want to read jt d file in c i am able to acc...</td>\n",
       "      <td>207</td>\n",
       "    </tr>\n",
       "    <tr>\n",
       "      <th>1</th>\n",
       "      <td>&lt;p&gt;I had to solve a Capacitated Orienteering P...</td>\n",
       "      <td>1</td>\n",
       "      <td>i had to solve a capacitated orienteering prob...</td>\n",
       "      <td>1297</td>\n",
       "    </tr>\n",
       "    <tr>\n",
       "      <th>2</th>\n",
       "      <td>&lt;p&gt;The SSLServerSocket below blocks in in.read...</td>\n",
       "      <td>1</td>\n",
       "      <td>the sslserversocket below blocks in inread in ...</td>\n",
       "      <td>1078</td>\n",
       "    </tr>\n",
       "    <tr>\n",
       "      <th>3</th>\n",
       "      <td>&lt;p&gt;Graph seems to be returning invalid retry-a...</td>\n",
       "      <td>1</td>\n",
       "      <td>graph seems to be returning invalid retryafter...</td>\n",
       "      <td>542</td>\n",
       "    </tr>\n",
       "    <tr>\n",
       "      <th>4</th>\n",
       "      <td>&lt;p&gt;componentDidMount(){\\n    fetch('&lt;a href=\"h...</td>\n",
       "      <td>1</td>\n",
       "      <td>componentdidmount   fetchhttpsboboboionlinecap...</td>\n",
       "      <td>689</td>\n",
       "    </tr>\n",
       "  </tbody>\n",
       "</table>\n",
       "</div>"
      ],
      "text/plain": [
       "                                                body  flag_id  \\\n",
       "0  <p>I want to read JT 3D file in c++. I am able...        1   \n",
       "1  <p>I had to solve a Capacitated Orienteering P...        1   \n",
       "2  <p>The SSLServerSocket below blocks in in.read...        1   \n",
       "3  <p>Graph seems to be returning invalid retry-a...        1   \n",
       "4  <p>componentDidMount(){\\n    fetch('<a href=\"h...        1   \n",
       "\n",
       "                                          body_clean  length  \n",
       "0  i want to read jt d file in c i am able to acc...     207  \n",
       "1  i had to solve a capacitated orienteering prob...    1297  \n",
       "2  the sslserversocket below blocks in inread in ...    1078  \n",
       "3  graph seems to be returning invalid retryafter...     542  \n",
       "4  componentdidmount   fetchhttpsboboboionlinecap...     689  "
      ]
     },
     "execution_count": 35,
     "metadata": {},
     "output_type": "execute_result"
    }
   ],
   "source": [
    "# Create a body length column\n",
    "df['length'] = df.body_clean.apply(lambda x: len(x))\n",
    "df.head()"
   ]
  },
  {
   "cell_type": "code",
   "execution_count": 39,
   "metadata": {},
   "outputs": [
    {
     "data": {
      "text/html": [
       "<div>\n",
       "<style scoped>\n",
       "    .dataframe tbody tr th:only-of-type {\n",
       "        vertical-align: middle;\n",
       "    }\n",
       "\n",
       "    .dataframe tbody tr th {\n",
       "        vertical-align: top;\n",
       "    }\n",
       "\n",
       "    .dataframe thead tr th {\n",
       "        text-align: left;\n",
       "    }\n",
       "\n",
       "    .dataframe thead tr:last-of-type th {\n",
       "        text-align: right;\n",
       "    }\n",
       "</style>\n",
       "<table border=\"1\" class=\"dataframe\">\n",
       "  <thead>\n",
       "    <tr>\n",
       "      <th></th>\n",
       "      <th colspan=\"8\" halign=\"left\">length</th>\n",
       "    </tr>\n",
       "    <tr>\n",
       "      <th></th>\n",
       "      <th>count</th>\n",
       "      <th>mean</th>\n",
       "      <th>std</th>\n",
       "      <th>min</th>\n",
       "      <th>25%</th>\n",
       "      <th>50%</th>\n",
       "      <th>75%</th>\n",
       "      <th>max</th>\n",
       "    </tr>\n",
       "    <tr>\n",
       "      <th>flag_id</th>\n",
       "      <th></th>\n",
       "      <th></th>\n",
       "      <th></th>\n",
       "      <th></th>\n",
       "      <th></th>\n",
       "      <th></th>\n",
       "      <th></th>\n",
       "      <th></th>\n",
       "    </tr>\n",
       "  </thead>\n",
       "  <tbody>\n",
       "    <tr>\n",
       "      <th>0</th>\n",
       "      <td>7000.0</td>\n",
       "      <td>916.273429</td>\n",
       "      <td>1281.768673</td>\n",
       "      <td>3.0</td>\n",
       "      <td>305.0</td>\n",
       "      <td>569.0</td>\n",
       "      <td>1043.25</td>\n",
       "      <td>20364.0</td>\n",
       "    </tr>\n",
       "    <tr>\n",
       "      <th>1</th>\n",
       "      <td>7000.0</td>\n",
       "      <td>826.264714</td>\n",
       "      <td>1361.752153</td>\n",
       "      <td>31.0</td>\n",
       "      <td>245.0</td>\n",
       "      <td>450.0</td>\n",
       "      <td>881.25</td>\n",
       "      <td>23327.0</td>\n",
       "    </tr>\n",
       "  </tbody>\n",
       "</table>\n",
       "</div>"
      ],
      "text/plain": [
       "         length                                                               \n",
       "          count        mean          std   min    25%    50%      75%      max\n",
       "flag_id                                                                       \n",
       "0        7000.0  916.273429  1281.768673   3.0  305.0  569.0  1043.25  20364.0\n",
       "1        7000.0  826.264714  1361.752153  31.0  245.0  450.0   881.25  23327.0"
      ]
     },
     "execution_count": 39,
     "metadata": {},
     "output_type": "execute_result"
    }
   ],
   "source": [
    "# Do flagged questions tend to be longer than unflagged questions? Looks like\n",
    "df2 = df.groupby('flag_id')\n",
    "df2.head()\n",
    "df2.describe()"
   ]
  },
  {
   "cell_type": "code",
   "execution_count": 40,
   "metadata": {},
   "outputs": [
    {
     "data": {
      "text/plain": [
       "Text(0, 0.5, 'Count')"
      ]
     },
     "execution_count": 40,
     "metadata": {},
     "output_type": "execute_result"
    },
    {
     "data": {
      "image/png": "[encoded data removed]",
      "text/plain": [
       "<Figure size 1080x432 with 1 Axes>"
      ]
     },
     "metadata": {
      "needs_background": "light"
     },
     "output_type": "display_data"
    }
   ],
   "source": [
    "# Plot a histogram of column length\n",
    "from pylab import rcParams\n",
    "rcParams['figure.figsize'] = 15,6\n",
    "plt.hist(df['length'], color = 'blue', edgecolor = 'black', bins = 50)\n",
    "plt.xlabel('length')\n",
    "plt.ylabel('Count')"
   ]
  },
  {
   "cell_type": "code",
   "execution_count": 41,
   "metadata": {},
   "outputs": [
    {
     "name": "stderr",
     "output_type": "stream",
     "text": [
      "[nltk_data] Downloading package stopwords to\n",
      "[nltk_data]     C:\\Users\\sicel\\AppData\\Roaming\\nltk_data...\n",
      "[nltk_data]   Package stopwords is already up-to-date!\n"
     ]
    },
    {
     "data": {
      "text/plain": [
       "True"
      ]
     },
     "execution_count": 41,
     "metadata": {},
     "output_type": "execute_result"
    }
   ],
   "source": [
    "# Use NLTK to extract individual words from body\n",
    "\n",
    "import nltk\n",
    "from nltk.tokenize import RegexpTokenizer\n",
    "nltk.download('stopwords')"
   ]
  },
  {
   "cell_type": "code",
   "execution_count": 42,
   "metadata": {},
   "outputs": [
    {
     "data": {
      "text/html": [
       "<div>\n",
       "<style scoped>\n",
       "    .dataframe tbody tr th:only-of-type {\n",
       "        vertical-align: middle;\n",
       "    }\n",
       "\n",
       "    .dataframe tbody tr th {\n",
       "        vertical-align: top;\n",
       "    }\n",
       "\n",
       "    .dataframe thead th {\n",
       "        text-align: right;\n",
       "    }\n",
       "</style>\n",
       "<table border=\"1\" class=\"dataframe\">\n",
       "  <thead>\n",
       "    <tr style=\"text-align: right;\">\n",
       "      <th></th>\n",
       "      <th>body</th>\n",
       "      <th>flag_id</th>\n",
       "      <th>body_clean</th>\n",
       "      <th>length</th>\n",
       "    </tr>\n",
       "  </thead>\n",
       "  <tbody>\n",
       "    <tr>\n",
       "      <th>0</th>\n",
       "      <td>&lt;p&gt;I want to read JT 3D file in c++. I am able...</td>\n",
       "      <td>1</td>\n",
       "      <td>i want to read jt d file in c i am able to acc...</td>\n",
       "      <td>207</td>\n",
       "    </tr>\n",
       "    <tr>\n",
       "      <th>1</th>\n",
       "      <td>&lt;p&gt;I had to solve a Capacitated Orienteering P...</td>\n",
       "      <td>1</td>\n",
       "      <td>i had to solve a capacitated orienteering prob...</td>\n",
       "      <td>1297</td>\n",
       "    </tr>\n",
       "    <tr>\n",
       "      <th>2</th>\n",
       "      <td>&lt;p&gt;The SSLServerSocket below blocks in in.read...</td>\n",
       "      <td>1</td>\n",
       "      <td>the sslserversocket below blocks in inread in ...</td>\n",
       "      <td>1078</td>\n",
       "    </tr>\n",
       "    <tr>\n",
       "      <th>3</th>\n",
       "      <td>&lt;p&gt;Graph seems to be returning invalid retry-a...</td>\n",
       "      <td>1</td>\n",
       "      <td>graph seems to be returning invalid retryafter...</td>\n",
       "      <td>542</td>\n",
       "    </tr>\n",
       "    <tr>\n",
       "      <th>4</th>\n",
       "      <td>&lt;p&gt;componentDidMount(){\\n    fetch('&lt;a href=\"h...</td>\n",
       "      <td>1</td>\n",
       "      <td>componentdidmount   fetchhttpsboboboionlinecap...</td>\n",
       "      <td>689</td>\n",
       "    </tr>\n",
       "  </tbody>\n",
       "</table>\n",
       "</div>"
      ],
      "text/plain": [
       "                                                body  flag_id  \\\n",
       "0  <p>I want to read JT 3D file in c++. I am able...        1   \n",
       "1  <p>I had to solve a Capacitated Orienteering P...        1   \n",
       "2  <p>The SSLServerSocket below blocks in in.read...        1   \n",
       "3  <p>Graph seems to be returning invalid retry-a...        1   \n",
       "4  <p>componentDidMount(){\\n    fetch('<a href=\"h...        1   \n",
       "\n",
       "                                          body_clean  length  \n",
       "0  i want to read jt d file in c i am able to acc...     207  \n",
       "1  i had to solve a capacitated orienteering prob...    1297  \n",
       "2  the sslserversocket below blocks in inread in ...    1078  \n",
       "3  graph seems to be returning invalid retryafter...     542  \n",
       "4  componentdidmount   fetchhttpsboboboionlinecap...     689  "
      ]
     },
     "execution_count": 42,
     "metadata": {},
     "output_type": "execute_result"
    }
   ],
   "source": [
    "# Visualize most common words in the 2 categories\n",
    "# Select only flagged category first\n",
    "\n",
    "flagged = df[df.flag_id==1]\n",
    "flagged.head()"
   ]
  },
  {
   "cell_type": "code",
   "execution_count": 45,
   "metadata": {},
   "outputs": [
    {
     "name": "stdout",
     "output_type": "stream",
     "text": [
      "['i want to read jt d file in c i am able to access vertices and normal but i am struggling to access indexed triangles without indexed triangle three js not able to render d model properly please help me out ', 'i had to solve a capacitated orienteering problem with time windows and i should implement it in cplex but the constrait of the time windows does not work could anyone solve this problem i assume that the problem has something to do with the time windows but i am not sure                                                  input data defined externally  number of control points int n    set of control point indices int n    score at each control point int pn    distance matrix travel time int tnn    maximum distance int tmax   time xindow int on   int cn  demand int demandn   service time int servicetimen  capacity int cap  m variable int m  decision variable dvar boolean xnn  dvar float bn objective function dexpr float profit  sumi in n j in n             pixij maximize profit constraints subject to   time window   foralli in n     oi  bi   foralli in n    bi  servicetimei  ci   foralli in n j in n     bi  servicetimei  tij  bj  m    xij     capacity    sumi in n j in n demandixij  cap                  leave starting point   sumj in n xj      arrive at finishing point   sumi in n xin      flow conservation   forall k in n   sumi in n xik  sumj in n xkj   visit controll points at most once   forallk in n    sumi in n xik     maximum tour duration   sumi in n j in n tijxij  tmax ']\n"
     ]
    }
   ],
   "source": [
    "tokenizer = RegexpTokenizer('\\w+')\n",
    "\n",
    "flag_words = []\n",
    "for word in flagged['body_clean']:\n",
    "  flag_words.append(word)\n",
    "print(flag_words[:2])"
   ]
  },
  {
   "cell_type": "code",
   "execution_count": 47,
   "metadata": {},
   "outputs": [
    {
     "data": {
      "text/plain": [
       "['i', 'want', 'to', 'read', 'jt', 'd', 'file', 'in', 'c', 'i']"
      ]
     },
     "execution_count": 47,
     "metadata": {},
     "output_type": "execute_result"
    }
   ],
   "source": [
    "# Print out first 10 words\n",
    "flagtokens = tokenizer.tokenize(str(flag_words))\n",
    "flagtokens[:10]"
   ]
  },
  {
   "cell_type": "code",
   "execution_count": 48,
   "metadata": {},
   "outputs": [
    {
     "data": {
      "text/plain": [
       "['want',\n",
       " 'read',\n",
       " 'jt',\n",
       " 'file',\n",
       " 'c',\n",
       " 'able',\n",
       " 'access',\n",
       " 'vertices',\n",
       " 'normal',\n",
       " 'struggling']"
      ]
     },
     "execution_count": 48,
     "metadata": {},
     "output_type": "execute_result"
    }
   ],
   "source": [
    "# Remove stopwords\n",
    "sw = nltk.corpus.stopwords.words('english')\n",
    "words_flag = []\n",
    "for word in flagtokens:\n",
    "    if word not in sw:\n",
    "        words_flag.append(word)\n",
    "words_flag[:10]"
   ]
  },
  {
   "cell_type": "code",
   "execution_count": 49,
   "metadata": {},
   "outputs": [
    {
     "data": {
      "image/png": "[encoded data removed]",
      "text/plain": [
       "<Figure size 1080x432 with 1 Axes>"
      ]
     },
     "metadata": {
      "needs_background": "light"
     },
     "output_type": "display_data"
    }
   ],
   "source": [
    "# Create frequency distribution and plot\n",
    "\n",
    "flagged_common = nltk.FreqDist(words_flag)\n",
    "flagged_common.plot(50)"
   ]
  },
  {
   "cell_type": "markdown",
   "metadata": {},
   "source": [
    "# MACHINE LEARNING: MODEL TRAINING, TESTING AND EVALUATION"
   ]
  },
  {
   "cell_type": "code",
   "execution_count": 67,
   "metadata": {},
   "outputs": [],
   "source": [
    "# Import Sklearn Modules\n",
    "from sklearn.model_selection import train_test_split\n",
    "from sklearn.ensemble import RandomForestClassifier\n",
    "from sklearn.naive_bayes import MultinomialNB\n",
    "from sklearn.linear_model import LogisticRegression\n",
    "from sklearn import svm\n",
    "from sklearn.feature_extraction.text import TfidfVectorizer\n",
    "from sklearn import metrics\n",
    "from sklearn.metrics import mean_squared_error\n",
    "from sklearn.metrics import classification_report, confusion_matrix"
   ]
  },
  {
   "cell_type": "code",
   "execution_count": 68,
   "metadata": {},
   "outputs": [],
   "source": [
    "# Split the data into 80% training  and 20% test data\n",
    "X = df['body_clean'] # Features\n",
    "y = df['flag_id']  # Labels\n",
    "X_train, X_test, y_train, y_test = train_test_split(X, y, test_size = 0.2, random_state = 100)"
   ]
  },
  {
   "cell_type": "markdown",
   "metadata": {},
   "source": [
    "Use TF-IDF statistic (term frequency-inverse document frequency) to turn comment text into numerical data. TF determines the frequency of a word and IDF decreases the weight for commonly used words and increases the weight of less commonly used words. I also found that removing stop words does not change accuracy score that much"
   ]
  },
  {
   "cell_type": "markdown",
   "metadata": {},
   "source": [
    "1. RANDOM FOREST"
   ]
  },
  {
   "cell_type": "code",
   "execution_count": 54,
   "metadata": {},
   "outputs": [
    {
     "name": "stdout",
     "output_type": "stream",
     "text": [
      "Random Forest Accuracy: 0.7696428571428572\n",
      "Random Forest RMSE: 0.23035714285714284\n"
     ]
    }
   ],
   "source": [
    "tf_vect = TfidfVectorizer(lowercase=True, use_idf=True, smooth_idf=True, sublinear_tf=False)\n",
    "\n",
    "X_train = tf_vect.fit_transform(X_train)\n",
    "X_test = tf_vect.transform(X_test)\n",
    "\n",
    "# Train the model on a training set. n_estimators is the number of decision trees in the forest\n",
    "\n",
    "clf = RandomForestClassifier(n_estimators = 50, random_state = 5)\n",
    "clf.fit(X_train, y_train)\n",
    "\n",
    "# Predict on a training dataset\n",
    "\n",
    "y_pred = clf.predict(X_test)\n",
    "\n",
    "# Print the model accuracy score and RMSE\n",
    "\n",
    "print(\"Random Forest Accuracy:\", metrics.accuracy_score(y_test, y_pred))\n",
    "print(\"Random Forest RMSE:\", mean_squared_error(y_test, y_pred))"
   ]
  },
  {
   "cell_type": "code",
   "execution_count": 57,
   "metadata": {
    "scrolled": true
   },
   "outputs": [
    {
     "name": "stdout",
     "output_type": "stream",
     "text": [
      "              precision    recall  f1-score   support\n",
      "\n",
      "           0       0.77      0.77      0.77      1412\n",
      "           1       0.77      0.76      0.77      1388\n",
      "\n",
      "   micro avg       0.77      0.77      0.77      2800\n",
      "   macro avg       0.77      0.77      0.77      2800\n",
      "weighted avg       0.77      0.77      0.77      2800\n",
      "\n"
     ]
    }
   ],
   "source": [
    "# Print out F1-score which is the harmonic mean between precision and recall. Accuracy score alone can be misleading\n",
    "print(classification_report(y_test, y_pred))"
   ]
  },
  {
   "cell_type": "code",
   "execution_count": 58,
   "metadata": {},
   "outputs": [
    {
     "name": "stdout",
     "output_type": "stream",
     "text": [
      "[[1094  318]\n",
      " [ 327 1061]]\n"
     ]
    }
   ],
   "source": [
    "print(confusion_matrix(y_test, y_pred))"
   ]
  },
  {
   "cell_type": "code",
   "execution_count": 59,
   "metadata": {},
   "outputs": [
    {
     "name": "stdout",
     "output_type": "stream",
     "text": [
      "[0 1]\n"
     ]
    }
   ],
   "source": [
    "# Below I print out the number of unique elements of an array that the model can predict by the following:\n",
    "\n",
    "print(np.unique(y_pred))"
   ]
  },
  {
   "cell_type": "markdown",
   "metadata": {},
   "source": [
    "2. NAIVE BAYES"
   ]
  },
  {
   "cell_type": "code",
   "execution_count": 61,
   "metadata": {},
   "outputs": [
    {
     "name": "stdout",
     "output_type": "stream",
     "text": [
      "Naive Bayes Accuracy: 0.7625\n",
      "Naive Bayes RMSE: 0.2375\n"
     ]
    }
   ],
   "source": [
    "tf_vect = TfidfVectorizer(lowercase=True, use_idf=True, smooth_idf=True, sublinear_tf=False)\n",
    "\n",
    "X_train = tf_vect.fit_transform(X_train)\n",
    "X_test = tf_vect.transform(X_test)\n",
    "\n",
    "# Train the model on a training set.\n",
    "\n",
    "clf = MultinomialNB()\n",
    "clf.fit(X_train, y_train)\n",
    "\n",
    "# Predict on a training dataset\n",
    "\n",
    "y_pred = clf.predict(X_test)\n",
    "\n",
    "# Print the model accuracy score and RMSE\n",
    "\n",
    "print(\"Naive Bayes Accuracy:\", metrics.accuracy_score(y_test, y_pred))\n",
    "print(\"Naive Bayes RMSE:\", mean_squared_error(y_test, y_pred))"
   ]
  },
  {
   "cell_type": "markdown",
   "metadata": {},
   "source": [
    "3. LOGISTIC REGRESSION"
   ]
  },
  {
   "cell_type": "code",
   "execution_count": 66,
   "metadata": {},
   "outputs": [
    {
     "name": "stderr",
     "output_type": "stream",
     "text": [
      "C:\\Users\\sicel\\Anaconda3\\lib\\site-packages\\sklearn\\linear_model\\logistic.py:433: FutureWarning: Default solver will be changed to 'lbfgs' in 0.22. Specify a solver to silence this warning.\n",
      "  FutureWarning)\n"
     ]
    },
    {
     "name": "stdout",
     "output_type": "stream",
     "text": [
      "Logistic Regression Accuracy: 0.7678571428571429\n",
      "Logistic Regression RMSE: 0.23214285714285715\n"
     ]
    }
   ],
   "source": [
    "tf_vect = TfidfVectorizer(lowercase=True, use_idf=True, smooth_idf=True, sublinear_tf=False)\n",
    "\n",
    "X_train = tf_vect.fit_transform(X_train)\n",
    "X_test = tf_vect.transform(X_test)\n",
    "\n",
    "# Train the model on a training set.\n",
    "\n",
    "clf = LogisticRegression()\n",
    "clf.fit(X_train, y_train)\n",
    "\n",
    "# Predict on a training dataset\n",
    "\n",
    "y_pred = clf.predict(X_test)\n",
    "\n",
    "# Print the model accuracy score and RMSE\n",
    "\n",
    "print(\"Logistic Regression Accuracy:\", metrics.accuracy_score(y_test, y_pred))\n",
    "print(\"Logistic Regression RMSE:\", mean_squared_error(y_test, y_pred))"
   ]
  },
  {
   "cell_type": "markdown",
   "metadata": {},
   "source": [
    "4. SUPPORT VECTOR MACHINE"
   ]
  },
  {
   "cell_type": "code",
   "execution_count": 70,
   "metadata": {},
   "outputs": [
    {
     "data": {
      "text/plain": [
       "0.7760714285714285"
      ]
     },
     "execution_count": 70,
     "metadata": {},
     "output_type": "execute_result"
    }
   ],
   "source": [
    "# In support vector classification, C is the penalty paramter of the error term. Default = 1\n",
    "\n",
    "# So far SVM gives the highest score\n",
    "\n",
    "tf_vect = TfidfVectorizer(lowercase=True, use_idf=True, smooth_idf=True, sublinear_tf=False)\n",
    "X_train = tf_vect.fit_transform(X_train)\n",
    "X_test = tf_vect.transform(X_test)\n",
    "\n",
    "C = 1.0\n",
    "svc = svm.SVC(kernel='linear', C=C).fit(X_train, y_train)\n",
    "svc_pred = svc.predict(X_test)\n",
    "svc.score(X_test, y_test)"
   ]
  },
  {
   "cell_type": "code",
   "execution_count": 71,
   "metadata": {},
   "outputs": [
    {
     "name": "stdout",
     "output_type": "stream",
     "text": [
      "              precision    recall  f1-score   support\n",
      "\n",
      "           0       0.80      0.73      0.77      1412\n",
      "           1       0.75      0.82      0.78      1388\n",
      "\n",
      "   micro avg       0.78      0.78      0.78      2800\n",
      "   macro avg       0.78      0.78      0.78      2800\n",
      "weighted avg       0.78      0.78      0.78      2800\n",
      "\n"
     ]
    }
   ],
   "source": [
    "print(classification_report(y_test, svc_pred))"
   ]
  },
  {
   "cell_type": "code",
   "execution_count": 72,
   "metadata": {},
   "outputs": [
    {
     "name": "stdout",
     "output_type": "stream",
     "text": [
      "[[1036  376]\n",
      " [ 251 1137]]\n"
     ]
    }
   ],
   "source": [
    "print(confusion_matrix(y_test, svc_pred))"
   ]
  },
  {
   "cell_type": "markdown",
   "metadata": {},
   "source": [
    "5. ARTIFICIAL NEURAL NETWORKS"
   ]
  },
  {
   "cell_type": "markdown",
   "metadata": {},
   "source": [
    " I found this great tutorial online to help guide me: https://realpython.com/python-keras-text-classification/"
   ]
  },
  {
   "cell_type": "code",
   "execution_count": 73,
   "metadata": {},
   "outputs": [],
   "source": [
    "# Import relevant libraries\n",
    "from tensorflow.keras.layers import Dense, Dropout\n",
    "from tensorflow.keras.models import Sequential\n",
    "from sklearn.model_selection import cross_val_score\n",
    "from tensorflow.python.keras.preprocessing.text import Tokenizer"
   ]
  },
  {
   "cell_type": "code",
   "execution_count": 74,
   "metadata": {},
   "outputs": [],
   "source": [
    "text = df['body_clean'].values # Features\n",
    "y = df['flag_id'].values  # Labels\n",
    "text_train, text_test, y_train, y_test = train_test_split(text, y, test_size = 0.2, random_state = 100)"
   ]
  },
  {
   "cell_type": "code",
   "execution_count": 75,
   "metadata": {},
   "outputs": [
    {
     "data": {
      "text/plain": [
       "<11200x107966 sparse matrix of type '<class 'numpy.float64'>'\n",
       "\twith 693549 stored elements in Compressed Sparse Row format>"
      ]
     },
     "execution_count": 75,
     "metadata": {},
     "output_type": "execute_result"
    }
   ],
   "source": [
    "tf_vect = TfidfVectorizer(lowercase=True, use_idf=True, smooth_idf=True, sublinear_tf=False)\n",
    "\n",
    "X_train = tf_vect.fit_transform(text_train)\n",
    "X_test = tf_vect.transform(text_test)\n",
    "X_train"
   ]
  },
  {
   "cell_type": "markdown",
   "metadata": {},
   "source": [
    "We have 11200 samples after train/test split. Each sample has 107966 dimensions, which is the size of the vocabulary. A sparse matrix is optimized for a matrix with non-zero elements"
   ]
  },
  {
   "cell_type": "code",
   "execution_count": 76,
   "metadata": {},
   "outputs": [
    {
     "data": {
      "text/plain": [
       "107966"
      ]
     },
     "execution_count": 76,
     "metadata": {},
     "output_type": "execute_result"
    }
   ],
   "source": [
    "# For neural networks, need to know the input dimension of feature vectors\n",
    "input_dim = X_train.shape[1]\n",
    "input_dim"
   ]
  },
  {
   "cell_type": "code",
   "execution_count": 77,
   "metadata": {},
   "outputs": [
    {
     "name": "stdout",
     "output_type": "stream",
     "text": [
      "_________________________________________________________________\n",
      "Layer (type)                 Output Shape              Param #   \n",
      "=================================================================\n",
      "dense (Dense)                (None, 32)                3454944   \n",
      "_________________________________________________________________\n",
      "dense_1 (Dense)              (None, 1)                 33        \n",
      "=================================================================\n",
      "Total params: 3,454,977\n",
      "Trainable params: 3,454,977\n",
      "Non-trainable params: 0\n",
      "_________________________________________________________________\n"
     ]
    }
   ],
   "source": [
    "model = Sequential()\n",
    "model.add(Dense(32, input_dim = input_dim, activation = 'relu'))\n",
    "\n",
    "# Use a sigmoid function for the output layer in a binary classification problem or a softmax function for multi-class classification problems\n",
    "model.add(Dense(1, kernel_initializer='normal', activation='sigmoid'))\n",
    "\n",
    "# Before training the model, need to configure the learning process using .compile() method. This model specifies the optimizer and loss function\n",
    "model.compile(loss='binary_crossentropy', optimizer='adam', metrics=['accuracy'])\n",
    "\n",
    "# Print out model summary\n",
    "model.summary()"
   ]
  },
  {
   "cell_type": "code",
   "execution_count": 78,
   "metadata": {},
   "outputs": [
    {
     "name": "stdout",
     "output_type": "stream",
     "text": [
      "Train on 11200 samples, validate on 2800 samples\n",
      "Epoch 1/4\n",
      "11200/11200 [==============================] - 51s 5ms/step - loss: 0.6166 - acc: 0.7251 - val_loss: 0.5079 - val_acc: 0.7743\n",
      "Epoch 2/4\n",
      "11200/11200 [==============================] - 50s 4ms/step - loss: 0.3353 - acc: 0.8921 - val_loss: 0.4509 - val_acc: 0.7779\n",
      "Epoch 3/4\n",
      "11200/11200 [==============================] - 50s 4ms/step - loss: 0.1613 - acc: 0.9590 - val_loss: 0.4551 - val_acc: 0.7818\n",
      "Epoch 4/4\n",
      "11200/11200 [==============================] - 50s 4ms/step - loss: 0.0832 - acc: 0.9846 - val_loss: 0.4776 - val_acc: 0.7829\n"
     ]
    }
   ],
   "source": [
    "# I started with 8 epochs and changed it to 4 since it takes a long time to run 8 epochs\n",
    "# Setting verbose to 1 prints out a line which shows progress of the model as it trains\n",
    "# Validation data: the model will not be trained on this data\n",
    "#Batch size: If unspecified default is 32. The number of samples used in one iteration or epoch\n",
    "\n",
    "history = model.fit(X_train, y_train,\n",
    "                    batch_size = 32,\n",
    "                    epochs=4, \n",
    "                    verbose=1, \n",
    "                    validation_data=(X_test, y_test))"
   ]
  },
  {
   "cell_type": "code",
   "execution_count": 79,
   "metadata": {},
   "outputs": [
    {
     "name": "stdout",
     "output_type": "stream",
     "text": [
      "2800/2800 [==============================] - 6s 2ms/step\n",
      "0.7828571428571428\n"
     ]
    }
   ],
   "source": [
    "# Evaluate the accuracy of the model\n",
    "\n",
    "loss, accuracy = model.evaluate(X_test, y_test, verbose=1)\n",
    "\n",
    "print(accuracy)"
   ]
  },
  {
   "cell_type": "raw",
   "metadata": {},
   "source": [
    "Looks like we have a winner, neural networks give the highest accuracy score. Just to summarize accuracy score for all models:\n",
    "\n",
    "1. NEURAL NETWORKS - Accuracy score: 0.783\n",
    "2. SUPPORT VECTOR MACHINE - Accuracy score: 0.780\n",
    "3. RANDOM FOREST - Accuracy score: 0.770\n",
    "4. LOGISTIC REGRESSION - Accuracy score: 0.770\n",
    "5. NAIVE BAYES - Accuracy score: 0.760"
   ]
  }
 ],
 "metadata": {
  "kernelspec": {
   "display_name": "Python 3",
   "language": "python",
   "name": "python3"
  },
  "language_info": {
   "codemirror_mode": {
    "name": "ipython",
    "version": 3
   },
   "file_extension": ".py",
   "mimetype": "text/x-python",
   "name": "python",
   "nbconvert_exporter": "python",
   "pygments_lexer": "ipython3",
   "version": "3.6.8"
  }
 },
 "nbformat": 4,
 "nbformat_minor": 2
}
